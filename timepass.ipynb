{
 "cells": [
  {
   "cell_type": "code",
   "execution_count": 36,
   "metadata": {},
   "outputs": [
    {
     "name": "stdout",
     "output_type": "stream",
     "text": [
      "<class 'list'>\n"
     ]
    }
   ],
   "source": [
    "# Q1. Create an empty list.\n",
    "list1=[]\n",
    "print(type(list1))"
   ]
  },
  {
   "cell_type": "code",
   "execution_count": 37,
   "metadata": {},
   "outputs": [
    {
     "name": "stdout",
     "output_type": "stream",
     "text": [
      "Original list:  [1, 2, 3, 4, 5, 6, 7]\n",
      "Modified list :  [1, 2, 3, 4, 5, 6, 7, 8]\n"
     ]
    }
   ],
   "source": [
    "# Q2. Create a list and add an element to the end of this list.\n",
    "list1=[1,2,3,4,5,6,7]\n",
    "a=8\n",
    "print(\"Original list: \",list1)\n",
    "list1.append(a)\n",
    "print(\"Modified list : \",list1)"
   ]
  },
  {
   "cell_type": "code",
   "execution_count": 38,
   "metadata": {},
   "outputs": [
    {
     "name": "stdout",
     "output_type": "stream",
     "text": [
      "[8]\n"
     ]
    }
   ],
   "source": [
    "# Q3. For the above created list print the last element.\n",
    "list1=[1,2,3,4,5,6,7,8]\n",
    "print(list1[-1:])"
   ]
  },
  {
   "cell_type": "code",
   "execution_count": 39,
   "metadata": {},
   "outputs": [
    {
     "name": "stdout",
     "output_type": "stream",
     "text": [
      "Original List :  [1, 2, 3, 4, 5, 6, 7, 8]\n",
      "Reverse List : [8, 7, 6, 5, 4, 3, 2, 1]\n"
     ]
    }
   ],
   "source": [
    "# Q4. Reverse the above created list.\n",
    "list1=[1,2,3,4,5,6,7,8]\n",
    "print(\"Original List : \",list1)\n",
    "list1.reverse()\n",
    "print(\"Reverse List :\" ,list1)"
   ]
  },
  {
   "cell_type": "code",
   "execution_count": 40,
   "metadata": {},
   "outputs": [
    {
     "name": "stdout",
     "output_type": "stream",
     "text": [
      "Original List :  [8, 7, 6, 5, 4, 3, 2, 1]\n",
      "Sorted List :  [1, 2, 3, 4, 5, 6, 7, 8]\n"
     ]
    }
   ],
   "source": [
    "# Q5. Sort the above created list.\n",
    "list1=[8, 7, 6, 5, 4, 3, 2, 1]\n",
    "print(\"Original List : \",list1)\n",
    "list1.sort()\n",
    "print(\"Sorted List : \",list1)"
   ]
  },
  {
   "cell_type": "code",
   "execution_count": 41,
   "metadata": {},
   "outputs": [
    {
     "name": "stdout",
     "output_type": "stream",
     "text": [
      "Captain America\n"
     ]
    }
   ],
   "source": [
    "# Q6. Create a list of your top three favorite movies, then print the second movie title.\n",
    "list1=[\"Iron Man\",\"Captain America\",\"Avenges\"]\n",
    "print(list1[1])"
   ]
  },
  {
   "cell_type": "code",
   "execution_count": 42,
   "metadata": {},
   "outputs": [
    {
     "name": "stdout",
     "output_type": "stream",
     "text": [
      "Original list :  ['lion', 'tiger', 'elephent']\n",
      "Updated List :  ['lion', 'tiger', 'elephent', 'crocodile']\n"
     ]
    }
   ],
   "source": [
    "# Q7. Create a list of your favorite animals, then add a new animal to the list and print the updated list.\n",
    "list1=[\"lion\",\"tiger\",\"elephent\"]\n",
    "print(\"Original list : \",list1)\n",
    "list1.append(\"crocodile\")\n",
    "print(\"Updated List : \",list1)"
   ]
  },
  {
   "cell_type": "code",
   "execution_count": 44,
   "metadata": {},
   "outputs": [
    {
     "name": "stdout",
     "output_type": "stream",
     "text": [
      "The index of Pune is :  2\n"
     ]
    }
   ],
   "source": [
    "# Q8. Create a list of your favorite cities, then use the index() method to find the position of a specific city on the list and print it.\n",
    "list1=[\"JInd\",\"Kaithal\",\"Pune\",\"Mumbai\"]\n",
    "a=list1.index(\"Pune\")\n",
    "print(\"The index of Pune is : \",a)"
   ]
  }
 ],
 "metadata": {
  "kernelspec": {
   "display_name": "Python 3",
   "language": "python",
   "name": "python3"
  },
  "language_info": {
   "codemirror_mode": {
    "name": "ipython",
    "version": 3
   },
   "file_extension": ".py",
   "mimetype": "text/x-python",
   "name": "python",
   "nbconvert_exporter": "python",
   "pygments_lexer": "ipython3",
   "version": "3.11.4"
  }
 },
 "nbformat": 4,
 "nbformat_minor": 2
}
