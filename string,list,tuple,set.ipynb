{
 "cells": [
  {
   "cell_type": "markdown",
   "metadata": {},
   "source": [
    "String "
   ]
  },
  {
   "cell_type": "code",
   "execution_count": null,
   "metadata": {},
   "outputs": [],
   "source": [
    "# 1. Write a program to reverse a string.\n",
    "string= input(\"Enter String : \")\n",
    "reverse_string=string[::-1]\n",
    "print(\"Reverse String :\",reverse_string)"
   ]
  },
  {
   "cell_type": "code",
   "execution_count": null,
   "metadata": {},
   "outputs": [],
   "source": [
    "# 2. Check if a string is a palindrome\n",
    "string= input(\"Enter String : \")\n",
    "reverse_string=string[::-1]\n",
    "\n",
    "if string==reverse_string:\n",
    "    print(\"Given string is palindrome.\")\n",
    "else:\n",
    "    print(\"Given string is not palindrome.\")"
   ]
  },
  {
   "cell_type": "code",
   "execution_count": null,
   "metadata": {},
   "outputs": [],
   "source": [
    "# 3. Convert a string to uppercase\n",
    "string=input(\"Enter string: \")\n",
    "new_string =string.upper()\n",
    "print(new_string)"
   ]
  },
  {
   "cell_type": "code",
   "execution_count": null,
   "metadata": {},
   "outputs": [],
   "source": [
    "# 4. Convert a string to lowercase.\n",
    "string=input(\"Enter string: \")\n",
    "new_string =string.lower()\n",
    "print(new_string)"
   ]
  },
  {
   "cell_type": "code",
   "execution_count": null,
   "metadata": {},
   "outputs": [],
   "source": [
    "# 5. Count the number of vowels in a string.\n",
    "string=input(\"Enter sentence : \")\n",
    "lower_string=string.lower()\n",
    "\n",
    "count=0\n",
    "vowel=\"aeiou\"\n",
    "for i in lower_string:\n",
    "    if i in vowel:\n",
    "        count+=1\n",
    "print(\"Total number of a vowel : \",count)"
   ]
  },
  {
   "cell_type": "code",
   "execution_count": null,
   "metadata": {},
   "outputs": [],
   "source": [
    "# 6. Count the number of consonants in a string.\n",
    "string=input(\"Enter sentence : \")\n",
    "lower_string=string.lower()\n",
    "len_string= len(string)\n",
    "count=0\n",
    "vowel=\"aeiou\"\n",
    "for i in lower_string:\n",
    "    if i in vowel:\n",
    "        count+=1\n",
    "\n",
    "print(\"Total number of consonants :\",len_string -count)"
   ]
  },
  {
   "cell_type": "code",
   "execution_count": null,
   "metadata": {},
   "outputs": [],
   "source": [
    "# 7. Remove all whitespaces from a string.\n",
    "string=input(\"Enter String : \")\n",
    "modified_string=string.replace(\" \",\"\")\n",
    "print(modified_string)"
   ]
  },
  {
   "cell_type": "code",
   "execution_count": null,
   "metadata": {},
   "outputs": [],
   "source": [
    "# 8. Find the length of a string without using the `len()` function.\n",
    "string=input(\"Enter string : \")\n",
    "count=0\n",
    "for i in string:\n",
    "    count+=1\n",
    "\n",
    "print(\"Length of a string :\",count)"
   ]
  },
  {
   "cell_type": "code",
   "execution_count": null,
   "metadata": {},
   "outputs": [],
   "source": [
    "# 9. Check if a string contains a specific word.\n",
    "string= input(\"Enter string : \")\n",
    "specific_word= input(\"Enter specific word : \")\n",
    "\n",
    "if specific_word in string:\n",
    "    print(f\"{specific_word} is present in  given string.\")"
   ]
  },
  {
   "cell_type": "code",
   "execution_count": null,
   "metadata": {},
   "outputs": [],
   "source": [
    "# 10. Replace a word in a string with another word.\n",
    "string=input(\"Enter string : \")\n",
    "specific_word = input(\"Enter string : \")\n",
    "\n",
    "if specific_word in string:\n",
    "    new_word =input(\"Enter new word :\")\n",
    "    print(string.replace(specific_word,new_word))\n",
    "\n",
    "else:\n",
    "    print(\"Pls enter a word which is present in string\")"
   ]
  },
  {
   "cell_type": "code",
   "execution_count": null,
   "metadata": {},
   "outputs": [],
   "source": [
    "# 11. Count the occurrences of a word in a string.\n",
    "input_string=input(\"Enter string :\\n\")\n",
    "special_character=input(\"Enter word : \")\n",
    "count=0\n",
    "\n",
    "list1=input_string.split()\n",
    "for i in list1:\n",
    "    if i==special_character:\n",
    "        count+=1\n",
    "\n",
    "else:\n",
    "    print(f\"THe total number of occurance {input_string} in input string is : \",count)"
   ]
  },
  {
   "cell_type": "code",
   "execution_count": null,
   "metadata": {},
   "outputs": [],
   "source": [
    "# 12. Find the first occurrence of a word in a string.\n",
    "input_string=input(\"Enter string : \\n\")\n",
    "special_word=input(\"Enter word : \")\n",
    "\n",
    "index=input_string.find(special_word)\n",
    "\n",
    "if index== -1:\n",
    "    print(f\"{special_word} in not present in given string\")\n",
    "else:\n",
    "    print(f\"{special_word} is present at index :\",index)"
   ]
  },
  {
   "cell_type": "code",
   "execution_count": null,
   "metadata": {},
   "outputs": [],
   "source": [
    "# 13. Find the last occurrence of a word in a string.\n",
    "input_string=input(\"Enter string : \\n\")\n",
    "special_word=input(\"Enter word : \")\n",
    "\n",
    "index=input_string.rfind(special_word)\n",
    "\n",
    "if index== -1:\n",
    "    print(f\"{special_word} in not present in given string\")\n",
    "else:\n",
    "    print(f\"{special_word} is present at index :\",index)"
   ]
  },
  {
   "cell_type": "code",
   "execution_count": null,
   "metadata": {},
   "outputs": [],
   "source": [
    "# 14. Split a string into a list of words.\n",
    "input_string=input(\"Enter string :\\n\")\n",
    "\n",
    "list1=input_string.split()\n",
    "print(list1)"
   ]
  },
  {
   "cell_type": "code",
   "execution_count": null,
   "metadata": {},
   "outputs": [],
   "source": [
    "# 15. Join a list of words into a string.\n",
    "length=int(input(\"Enter length of list : \"))\n",
    "list1=[]\n",
    "for i in range(length):\n",
    "    list1.append(input(\"Enter element : \"))\n",
    "print(list1)\n",
    "\n",
    "string=\" \".join(list1)\n",
    "print(string)"
   ]
  },
  {
   "cell_type": "code",
   "execution_count": null,
   "metadata": {},
   "outputs": [],
   "source": [
    "# 16. Convert a string where words are separated by spaces to one where words are separated by underscores.\n",
    "input_string=input(\"Enter elements : \")\n",
    "\n",
    "modified_string=input_string.replace(\" \",\"_\")\n",
    "print(\"Modified string : \",modified_string)"
   ]
  },
  {
   "cell_type": "code",
   "execution_count": null,
   "metadata": {},
   "outputs": [],
   "source": [
    "# 17. Check if a string starts with a specific word or phrase.\n",
    "input_string=input(\"Enter string : \\n\")\n",
    "specific_word=input(\"Enter word : \")\n",
    "\n",
    "if input_string.startswith(specific_word):\n",
    "    print(f\"{specific_word} is present at the start of input string.\")\n",
    "else:\n",
    "    print(f\"{specific_word} is not  present at the start of input string.\")"
   ]
  },
  {
   "cell_type": "code",
   "execution_count": null,
   "metadata": {},
   "outputs": [],
   "source": [
    "# 18. Check if a string ends with a specific word or phrase.\n",
    "input_string=input(\"Enter string : \\n\")\n",
    "specific_word=input(\"Enter word : \")\n",
    "\n",
    "if input_string.endswith(specific_word):\n",
    "    print(f\"{specific_word} is present at the end of input string.\")\n",
    "else:\n",
    "    print(f\"{specific_word} is not  present at the end of input string.\")"
   ]
  },
  {
   "cell_type": "code",
   "execution_count": null,
   "metadata": {},
   "outputs": [],
   "source": [
    "# 19. Convert a string to title case (e.g., \"hello world\" to \"Hello World\").\n",
    "input_string=input(\"Enter string : \")\n",
    "string=input_string.title()\n",
    "print(string)"
   ]
  },
  {
   "cell_type": "code",
   "execution_count": null,
   "metadata": {},
   "outputs": [],
   "source": [
    "# 20. Find the longest word in a string.\n",
    "input_string=input(\"Enter string : \")\n",
    "\n",
    "list1=input_string.split()\n",
    "\n",
    "max_len=[]\n",
    "for i in range(len(list1)):\n",
    "    max_len.append(len(list1[i]))\n",
    "a=max(max_len)\n",
    "for i in max_len:\n",
    "    if i==a:\n",
    "        c=max_len.index(a)\n",
    "print(f\"{list1[c]} is the longest word in input string\")"
   ]
  },
  {
   "cell_type": "code",
   "execution_count": null,
   "metadata": {},
   "outputs": [],
   "source": [
    "# 21. Find the shortest word in a string.\n",
    "input_string=input(\"Enter string : \")\n",
    "list1=input_string.split()\n",
    "\n",
    "min_len=[]\n",
    "for i in range(len(list1)):\n",
    "    min_len.append(len(list1[i]))\n",
    "a=min(min_len)\n",
    "for i in min_len:\n",
    "    if i==a:\n",
    "        c=min_len.index(a)\n",
    "print(f\"{list1[c]} is the smallest word in input string\")"
   ]
  },
  {
   "cell_type": "code",
   "execution_count": null,
   "metadata": {},
   "outputs": [],
   "source": [
    "# 22. Reverse the order of words in a string.\n",
    "input_string=input(\"Enter input string : \")\n",
    "list1=input_string.split()\n",
    "\n",
    "for i in range(len(list1)-1,-1,-1):\n",
    "    print(list1[i],end=\" \")"
   ]
  },
  {
   "cell_type": "code",
   "execution_count": null,
   "metadata": {},
   "outputs": [],
   "source": [
    "# 23. Check if a string is alphanumeric.\n",
    "input_string=input(\"Enter string :\")\n",
    "a=input_string.isalnum()\n",
    "\n",
    "if a==True:\n",
    "    print(\"Input string is alphanumeric.\")\n",
    "else:\n",
    "    print(\"Input string is not alphanumeric.\")"
   ]
  },
  {
   "cell_type": "code",
   "execution_count": null,
   "metadata": {},
   "outputs": [],
   "source": [
    "# 24. Extract all digits from a string.\n",
    "input_string=input(\"Enter string : \")\n",
    "for i in input_string:\n",
    "    if \"0\"<=i<=\"9\":\n",
    "        print(i,end=\"\\t\")"
   ]
  },
  {
   "cell_type": "code",
   "execution_count": null,
   "metadata": {},
   "outputs": [],
   "source": [
    "# 25. Extract all alphabets from a string.\n",
    "input_string=input(\"Enter string : \")\n",
    "for i in input_string:\n",
    "    if \"a\"<=i<=\"z\" or \"A\"<=i<=\"Z\":\n",
    "        print(i,end=\" \")"
   ]
  },
  {
   "cell_type": "code",
   "execution_count": null,
   "metadata": {},
   "outputs": [],
   "source": [
    "# 26. Count the number of uppercase letters in a string.\n",
    "input_string=input(\"Enter string : \")\n",
    "count=0\n",
    "for i in input_string:\n",
    "    if \"A\"<=i<=\"Z\":\n",
    "        count+=1\n",
    "print(\"Total number of uppercase in input string : \",count)"
   ]
  },
  {
   "cell_type": "code",
   "execution_count": null,
   "metadata": {},
   "outputs": [],
   "source": [
    "# 27. Count the number of lowercase letters in a string.\n",
    "input_string=input(\"Enter string : \")\n",
    "count=0\n",
    "for i in input_string:\n",
    "    if \"a\"<=i<=\"z\":\n",
    "        count+=1\n",
    "print(\"Total number of uppercase in input string : \",count)"
   ]
  },
  {
   "cell_type": "code",
   "execution_count": null,
   "metadata": {},
   "outputs": [],
   "source": [
    "# 28. Swap the case of each character in a string.\n",
    "input_string=input(\"Enter string :\")\n",
    "new_string=input_string.swapcase()\n",
    "print(new_string)"
   ]
  },
  {
   "cell_type": "code",
   "execution_count": null,
   "metadata": {},
   "outputs": [],
   "source": [
    "# 29. Remove a specific word from a string.\n",
    "input_string=input(\"Enter string : \")\n",
    "specific_word=input(\"Enter word : \")\n",
    "new_string=input_string.replace(specific_word,\"\")\n",
    "print(new_string)"
   ]
  },
  {
   "cell_type": "code",
   "execution_count": null,
   "metadata": {},
   "outputs": [],
   "source": [
    "# 30. Check if a string is a valid email address.\n",
    "input_email=input(\"Enter email : \")\n",
    "if input_email[len(input_email)-10:] == \"@email.com\":\n",
    "    print(\"String has a valid email address.\")\n",
    "else:\n",
    "    print(\"String has not a valid email address.\")"
   ]
  },
  {
   "cell_type": "code",
   "execution_count": null,
   "metadata": {},
   "outputs": [],
   "source": [
    "# 31. Extract the username from an email address string.\n",
    "input_email=input(\"Enter email : \")\n",
    "print(\"user name of input email is : \",input_email[:len(input_email)-10])"
   ]
  },
  {
   "cell_type": "code",
   "execution_count": null,
   "metadata": {},
   "outputs": [],
   "source": [
    "# 32. Extract the domain name from an email address string.\n",
    "input_email=input(\"Enter input email : \")\n",
    "find_index=input_email.index(\"@\")\n",
    "print(\"Domain name of input string : \",input_email[find_index+1:])"
   ]
  },
  {
   "cell_type": "code",
   "execution_count": null,
   "metadata": {},
   "outputs": [],
   "source": []
  }
 ],
 "metadata": {
  "kernelspec": {
   "display_name": "Python 3",
   "language": "python",
   "name": "python3"
  },
  "language_info": {
   "name": "python",
   "version": "3.11.4"
  }
 },
 "nbformat": 4,
 "nbformat_minor": 2
}
