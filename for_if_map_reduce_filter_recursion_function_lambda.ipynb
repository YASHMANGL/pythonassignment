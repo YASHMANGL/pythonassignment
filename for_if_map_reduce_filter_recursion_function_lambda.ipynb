{
 "cells": [
  {
   "cell_type": "markdown",
   "metadata": {},
   "source": [
    "FOR LOOP"
   ]
  },
  {
   "cell_type": "code",
   "execution_count": null,
   "metadata": {},
   "outputs": [],
   "source": [
    "# 1 Write a Python program to print numbers from 1 to 10 using a for loop\n",
    "for i in range(1,11):\n",
    "    print(i)"
   ]
  },
  {
   "cell_type": "markdown",
   "metadata": {},
   "source": [
    "2 Explain the difference between a for loop and a while loop in Python.\n",
    "\n",
    "FOR LOOP :  it is used to iterate item one by one and we know how many times we want to iterate item\n",
    "WHILE LOOP :it is used to iterate item by checking condition if condition is not ful fill then it will stop"
   ]
  },
  {
   "cell_type": "code",
   "execution_count": null,
   "metadata": {},
   "outputs": [],
   "source": [
    "# 3 Write a Python program to calculate the sum of all numbers from 1 to 100 using a for loop.\n",
    "sum=0\n",
    "for i in range(101):\n",
    "    sum+=i\n",
    "print(\"The sum of first 100 number : \",sum)"
   ]
  },
  {
   "cell_type": "code",
   "execution_count": null,
   "metadata": {},
   "outputs": [],
   "source": [
    "#4 How do you iterate through a list using a for loop in Python?\n",
    "l1=[1,2,3,4,5] \n",
    "for i in l1:\n",
    "    print(i)"
   ]
  },
  {
   "cell_type": "code",
   "execution_count": null,
   "metadata": {},
   "outputs": [],
   "source": [
    "# 5 Write a Python program to find the product of all elements in a list using a for loop\n",
    "n=int(input(\"Enter number of elements : \"))\n",
    "l1=[]\n",
    "for i in range(n):\n",
    "    l1.append(int(input(f\"Enter {i+1} elements : \")))\n",
    "\n",
    "product=1\n",
    "for i in l1:\n",
    "    product*=i\n",
    "print(\"Product of elements in list : \",product)"
   ]
  },
  {
   "cell_type": "code",
   "execution_count": null,
   "metadata": {},
   "outputs": [],
   "source": [
    "# 6 Create a Python program that prints all even numbers from 1 to 20 using a for loop.\n",
    "for i in range(21):\n",
    "    if i%2==0:\n",
    "        print(i)"
   ]
  },
  {
   "cell_type": "code",
   "execution_count": null,
   "metadata": {},
   "outputs": [],
   "source": [
    "# 7 Write a Python program that calculates the factorial of a number using a for loop.\n",
    "n=int(input(\"Enter number :  \"))\n",
    "product=1\n",
    "for i in range(1,n+1):\n",
    "    product*=i\n",
    "print(f\"The factorial of {n} : \",product)"
   ]
  },
  {
   "cell_type": "code",
   "execution_count": null,
   "metadata": {},
   "outputs": [],
   "source": [
    "# 8 How can you iterate through the characters of a string using a for loop in Python?\n",
    "input_string=input(\"Enter string : \\n\")\n",
    "for i in input_string:\n",
    "    print(i)"
   ]
  },
  {
   "cell_type": "code",
   "execution_count": null,
   "metadata": {},
   "outputs": [],
   "source": [
    "#  9 Write a Python program to find the largest number in a list using a for loop.\n",
    "n=int(input(\"Enter no of elements in list : \"))\n",
    "l1=[]\n",
    "for i in range(n):\n",
    "    l1.append(int(input(f\"Enter elements {i+1} : \")))\n",
    "max_num=l1[0]\n",
    "for i in l1:\n",
    "    if max_num<i:\n",
    "        max_num=i\n",
    "\n",
    "print(max_num)"
   ]
  },
  {
   "cell_type": "code",
   "execution_count": null,
   "metadata": {},
   "outputs": [],
   "source": [
    "# 10 Create a Python program that prints the Fibonacci sequence up to a specified limit using a for loop.\n",
    "n=int(input(\"Enter no of elements in list : \"))\n",
    "l1=[0,1]\n",
    "for i in range(n):\n",
    "    term=l1[-1]+l1[-2]\n",
    "    if n>=term:\n",
    "        l1.append(term)\n",
    "\n",
    "    else:\n",
    "        break\n",
    "print(l1)"
   ]
  },
  {
   "cell_type": "code",
   "execution_count": null,
   "metadata": {},
   "outputs": [],
   "source": [
    "#  11 Write a Python program to count the number of vowels in a given string using a for loop.\n",
    "input_string=input(\"Enter string : \\n\")\n",
    "vowels=['a','e','i','o','u','A','E','I','O','U']\n",
    "count=0\n",
    "for i in input_string:\n",
    "    if i in vowels:\n",
    "        count+=1\n",
    "print(\"Total number of vowels in input string is \",count)\n"
   ]
  },
  {
   "cell_type": "code",
   "execution_count": null,
   "metadata": {},
   "outputs": [],
   "source": [
    "# 12 Create a Python program that generates a multiplication table for a given number using a for loop.\n",
    "n=int(input(\"Enter number : \"))\n",
    "for i in range(1,11):\n",
    "    print(f\"{n}x{i}={n*i}\")"
   ]
  },
  {
   "cell_type": "code",
   "execution_count": null,
   "metadata": {},
   "outputs": [],
   "source": [
    "# 13 Write a Python program to reverse a list using a for loop.\n",
    "n=int(input(\"Enter no of elements in list : \"))\n",
    "l1=[]\n",
    "for i in range(n):\n",
    "    l1.append(int(input(f\"Enter elements {i+1} : \")))\n",
    "print(\"ORIGINAL LIST :\\n\",l1)\n",
    "for i in range(int(n/2)):\n",
    "    l1[i],l1[-1-i]=l1[-1-i],l1[i]\n",
    "\n",
    "print(\"REVERSED LIST :\\n\",l1)"
   ]
  },
  {
   "cell_type": "code",
   "execution_count": null,
   "metadata": {},
   "outputs": [],
   "source": [
    "# 14 Write a Python program to find the common elements between two lists using a for loop.\n",
    "n=int(input(\"Enter no of elements in list : \"))\n",
    "l1=[]\n",
    "for i in range(n):\n",
    "    l1.append(input(f\"Enter elements {i+1} : \"))\n",
    "n1=int(input(\"Enter no of elements in list : \"))\n",
    "l2=[]\n",
    "for i in range(n1):\n",
    "    l2.append(input(f\"Enter elements {i+1} : \"))\n",
    "\n",
    "print(\"LIST 1 :  \",l1)\n",
    "print(\"LIST 2 :  \",l2)\n",
    "l3=[]\n",
    "for i in l1 :\n",
    "    if i in l2:\n",
    "        l3.append(i)\n",
    "print(\"LIST CONTAINING COMMON NUMBERS : \\n\",l3)"
   ]
  },
  {
   "cell_type": "code",
   "execution_count": null,
   "metadata": {},
   "outputs": [],
   "source": [
    "#15 Explain how to use a for loop to iterate through the keys and values of a dictionary in Python.\n",
    "dict1={'a':1,'b':2,'c':3,'d':4}\n",
    "print(\"The keys are : \")\n",
    "for i in dict1.keys():\n",
    "    print(i)\n",
    "print(\"The values are : \")\n",
    "for i in dict1.values():\n",
    "    print(i)"
   ]
  },
  {
   "cell_type": "code",
   "execution_count": null,
   "metadata": {},
   "outputs": [],
   "source": [
    "# 16 Write a Python program to find the GCD (Greatest Common Divisor) of two numbers using a for loop.\n",
    "a=int(input(\"Enter 1st number : \"))\n",
    "b=int(input(\"Enter 2nd number : \"))\n",
    "small=min(a,b)\n",
    "gcd=1\n",
    "for i in range(1,small+1):\n",
    "    if a%i==0 and b%i==0:\n",
    "        gcd=i\n",
    "print(f\"The gcd of {a} and {b} : \",gcd)"
   ]
  },
  {
   "cell_type": "code",
   "execution_count": null,
   "metadata": {},
   "outputs": [],
   "source": [
    "# 17 Create a Python program that checks if a string is a palindrome using a for loop.\n",
    "input_string=input(\"Enter streing : \")\n",
    "a=len(input_string)\n",
    "for i in range(int(a/2)):\n",
    "    palindrome=False\n",
    "    if input_string[i]==input_string[-1-i]:\n",
    "        palindrome=True\n",
    "if palindrome:\n",
    "    print(\"Input string is palindrome.\")\n",
    "else:\n",
    "    print(\"Input string is not palindrome.\")"
   ]
  },
  {
   "cell_type": "code",
   "execution_count": null,
   "metadata": {},
   "outputs": [],
   "source": [
    "# 18 Write a Python program to remove duplicates from a list using a for loop.\n",
    "n=int(input(\"Enter no of elements in list : \"))\n",
    "l1=[]\n",
    "for i in range(n):\n",
    "    l1.append(input(f\"Enter elements {i+1} : \"))\n",
    "\n",
    "unique=[]\n",
    "for i in l1:\n",
    "    if i not in unique:\n",
    "        unique.append(i)\n",
    "print(\"Original List : \",l1)\n",
    "print(\"Unique Element : \",unique)"
   ]
  },
  {
   "cell_type": "code",
   "execution_count": null,
   "metadata": {},
   "outputs": [],
   "source": [
    "# 19 Create a Python program that counts the number of words in a sentence using a for loop.\n",
    "sentence=input(\"Enter Sentence : \\n\")\n",
    "count=0\n",
    "for i in sentence:\n",
    "    if i==' ':\n",
    "        count+=1\n",
    "print(\"The number of words in a sentence is \",count+1)\n"
   ]
  },
  {
   "cell_type": "code",
   "execution_count": null,
   "metadata": {},
   "outputs": [],
   "source": [
    "# 20 Write a Python program to find the sum of all odd numbers from 1 to 50 using a for loop.\n",
    "sum=0\n",
    "for i in range(50):\n",
    "    if i%2!=0:\n",
    "        sum+=i\n",
    "\n",
    "print(\"The sum of first 50 odd number is \",sum)"
   ]
  },
  {
   "cell_type": "code",
   "execution_count": null,
   "metadata": {},
   "outputs": [],
   "source": [
    "# 21 Write a Python program that checks if a given year is a leap year using a for loop.\n",
    "year=int(input(\"Enter year : \"))\n",
    "\n",
    "condition=[(year%4==0 and year%100!=0),(year%400==0)]\n",
    "leap=False\n",
    "for i in condition:\n",
    "    if i:\n",
    "        leap=True\n",
    "        break\n",
    "\n",
    "if leap:\n",
    "    print(f\"{year} is leap year .\")\n",
    "else:\n",
    "    print(f\"{year} is not leap year .\")"
   ]
  },
  {
   "cell_type": "code",
   "execution_count": null,
   "metadata": {},
   "outputs": [],
   "source": [
    "# 22 Create a Python program that calculates the square root of a number using a for loop.\n",
    "n=int(input(\"Enter number : \"))\n",
    "guess=n/2\n",
    "for i in range(10):\n",
    "    guess=(guess+n/guess)/2   # NEWTON RAPSHON METHOD\n",
    "\n",
    "print(f\"The square root of  {n} is {guess}.\")"
   ]
  },
  {
   "cell_type": "code",
   "execution_count": null,
   "metadata": {},
   "outputs": [],
   "source": [
    "#  23 Write a Python program to find the LCM (Least Common Multiple) of two numbers using a for loop.\n",
    "a=int(input(\"Enter 1st number : \"))\n",
    "b=int(input(\"Enter 2nd number : \"))\n",
    "c=max(a,b)\n",
    "for i in range(c,a*b+1):\n",
    "    if i%a==0 and i%b==0:\n",
    "        print(f\"The LCM of {a} and {b} is {i}.\")\n",
    "        break"
   ]
  },
  {
   "cell_type": "markdown",
   "metadata": {},
   "source": [
    "IF ELSE"
   ]
  },
  {
   "cell_type": "code",
   "execution_count": null,
   "metadata": {},
   "outputs": [],
   "source": [
    "#1 Write a Python program to check if a number is positive, negative, or zero using an if-else statement.\n",
    "n=int(input(\"Enter number : \"))\n",
    "if n>0:\n",
    "    print(f\"{n} is positive\")\n",
    "elif n==0:\n",
    "    print(f\"{n} is zero.\")\n",
    "else:\n",
    "    print(f\"{n} is negative\")"
   ]
  },
  {
   "cell_type": "code",
   "execution_count": null,
   "metadata": {},
   "outputs": [],
   "source": [
    "# 2 Create a Python program that checks if a given number is even or odd using an if-else statement.\n",
    "n=int(input(\"Enter number : \"))\n",
    "if n%2==0:\n",
    "    print(f\"{n} is even\")\n",
    "else:\n",
    "    print(f\"{n} is odd\")"
   ]
  },
  {
   "cell_type": "code",
   "execution_count": null,
   "metadata": {},
   "outputs": [],
   "source": [
    "# 3 How can you use nested if-else statements in Python, and provide an example?\n",
    "# we use nested if else by defining if else in if else eg\n",
    "\n",
    "a=int(input(\"Enter 1 number : \"))\n",
    "b=int(input(\"Enter 2 number : \"))\n",
    "c=int(input(\"Enter 3 number : \"))\n",
    "if a>c or b>c:\n",
    "    if a>b:\n",
    "        print(\"The largest number is : \",a)\n",
    "    else:\n",
    "        print(\"The largest number is : \",b)\n",
    "\n",
    "else:\n",
    "    print(\"The largest number is : \",c)"
   ]
  },
  {
   "cell_type": "code",
   "execution_count": null,
   "metadata": {},
   "outputs": [],
   "source": [
    "# 4 Write a Python program to determine the largest of three numbers using if-else.\n",
    "a=int(input(\"Enter 1 number : \"))\n",
    "b=int(input(\"Enter 2 number : \"))\n",
    "c=int(input(\"Enter 3 number : \"))\n",
    "if a>c and a>b:\n",
    "    print(\"The largest number is \",a)\n",
    "elif b>c and b>a:\n",
    "    print(\"The largest number is \",b)\n",
    "else:\n",
    "    print(\"The largest number is \",c)"
   ]
  },
  {
   "cell_type": "code",
   "execution_count": null,
   "metadata": {},
   "outputs": [],
   "source": [
    "# 5 Write a Python program that calculates the absolute value of a number using if-else.\n",
    "n=int(input(\"Enter number : \"))\n",
    "if n<0:\n",
    "    print('Absolute value :',-n)\n",
    "else:\n",
    "    print('Absolute value :',n)"
   ]
  },
  {
   "cell_type": "code",
   "execution_count": null,
   "metadata": {},
   "outputs": [],
   "source": [
    "# 6 Create a Python program that checks if a given character is a vowel or consonant using if-else.\n",
    "chara=input(\"Enter character : \")\n",
    "vowel=['a','e','i','o','u','A','E','I','O','U']\n",
    "if chara in vowel:\n",
    "    print(f'{chara} is vowel')\n",
    "else:\n",
    "    print(f'{chara} is consonant')"
   ]
  },
  {
   "cell_type": "code",
   "execution_count": null,
   "metadata": {},
   "outputs": [],
   "source": [
    "# 7 Write a Python program to determine if a user is eligible to vote based on their age using if-else.\n",
    "age=int(input(\"Enter age : \"))\n",
    "if age>=18:\n",
    "    print(\"You can vote.\")\n",
    "else:\n",
    "    print(\"You cann't vote.\")"
   ]
  },
  {
   "cell_type": "code",
   "execution_count": null,
   "metadata": {},
   "outputs": [],
   "source": [
    "# 8 Create a Python program that calculates the discount amount based on the purchase amount using if-else.\n",
    "amount=int(input(\"Enter purchased amount : \"))\n",
    "if amount>=10000:\n",
    "    amount=amount- 0.30*amount\n",
    "elif amount>=5000:\n",
    "    amount=amount-0.15*amount\n",
    "elif amount>=2500:\n",
    "    amount=amount-0.1*amount\n",
    "elif amount>=1000:\n",
    "    amount=amount-0.05*amount\n",
    "else:\n",
    "    amount=amount\n",
    "print(\"You have to pay : \",amount)"
   ]
  },
  {
   "cell_type": "code",
   "execution_count": null,
   "metadata": {},
   "outputs": [],
   "source": [
    "#  9 Write a Python program to check if a number is within a specified range using if-else.\n",
    "a=int(input(\"Enter number : \"))\n",
    "b=int(input(\"Enter first value of  range : \"))\n",
    "c=int(input(\"Enter last value of range : \"))\n",
    "if a>=b and a<c:\n",
    "    print(\"The number is lie in specified range.\")\n",
    "else : \n",
    "    print('The number is not lie in specified range.')"
   ]
  },
  {
   "cell_type": "code",
   "execution_count": null,
   "metadata": {},
   "outputs": [],
   "source": [
    "# 10 Create a Python program that determines the grade of a student based on their score using if-else.\n",
    "n=int(input(\"Enter numbers : \"))\n",
    "if 91<=n<=100:\n",
    "    print(\"+A\")\n",
    "elif 82<=n<=90:\n",
    "    print(\"A\")\n",
    "elif 73<=n<=81:\n",
    "    print('+B')\n",
    "elif 64<=n<=72 :\n",
    "    print('B')\n",
    "elif 55<=n<=63 :\n",
    "    print('+C')\n",
    "elif 46<=n<=54:\n",
    "    print('C')\n",
    "elif 40<=n<=45:\n",
    "    print('D')\n",
    "else:\n",
    "    print('Fail')"
   ]
  },
  {
   "cell_type": "code",
   "execution_count": null,
   "metadata": {},
   "outputs": [],
   "source": [
    "# 11 Write a Python program to check if a string is empty or not using if-else.\n",
    "string=input(\"Enter string : \")\n",
    "a=len(string)\n",
    "if a==0:\n",
    "    print('String is empty.')\n",
    "else :\n",
    "    print('String is not empty.')"
   ]
  },
  {
   "cell_type": "code",
   "execution_count": null,
   "metadata": {},
   "outputs": [],
   "source": [
    "# 12 Create a Python program that identifies the type of a triangle (e.g., equilateral, isosceles, or scalene) based on input values using if-else\n",
    "a=float(input(\"Enter 1st side : \"))\n",
    "b=float(input('Enter 2nd side : '))\n",
    "c=float(input('Enter 3rd side : '))\n",
    "\n",
    "if a==b and b==c:\n",
    "    print(\"Triangle is equilateral.\")\n",
    "elif a==b or b==c or a==c :\n",
    "    print('Triangle is isoscelus.')\n",
    "else : \n",
    "    print('Triangle is scalene')"
   ]
  },
  {
   "cell_type": "code",
   "execution_count": null,
   "metadata": {},
   "outputs": [],
   "source": [
    "# 13 Write a Python program to determine the day of the week based on a user-provided number using if-else.\n",
    "a=int(input('Enter number :'))\n",
    "if a<=0:\n",
    "    print('Number is not valid')\n",
    "elif a==1:\n",
    "    print('Day is Sunday.')\n",
    "elif a==2:\n",
    "    print('Day is Monday.')\n",
    "elif a==3:\n",
    "    print('Day is Tuesday.')\n",
    "elif a==4:\n",
    "    print('Day is Wednesday.')\n",
    "elif a==5:\n",
    "    print('Day is Thursday.')\n",
    "elif a==6:\n",
    "    print('Day is Friday.')\n",
    "elif a==7:\n",
    "    print('Day is Saturday.')\n",
    "else:\n",
    "    print('Number is not valid.')"
   ]
  },
  {
   "cell_type": "code",
   "execution_count": null,
   "metadata": {},
   "outputs": [],
   "source": [
    "# 14 Create a Python program that checks if a given year is a leap year using both if-else and a function.\n",
    "def leap(n):\n",
    "    if (n%4==0 and n%100 !=0) or (n%400==0):\n",
    "        return 'is leap year'\n",
    "    else:\n",
    "        return 'is not leap year.'\n",
    "\n",
    "n=int(input(\"Enter year : \"))\n",
    "print(n,leap(n))"
   ]
  },
  {
   "cell_type": "code",
   "execution_count": null,
   "metadata": {},
   "outputs": [],
   "source": [
    "# 15 How do you use the \"assert\" statement in Python to add debugging checks within if-else blocks?\n",
    "# assert statement in python is used for debugging by checking if condition is true.if condition  is false assert rase an assertSrror with an optional error message'.\n",
    "def divide(a,b):\n",
    "    if b!=0:\n",
    "        assert b!=0\n",
    "        return a/b\n",
    "    else:\n",
    "        return ValueError('Cannot divide by zero')\n",
    "print(divide(5,2))\n",
    "print(divide(5,0))"
   ]
  },
  {
   "cell_type": "code",
   "execution_count": null,
   "metadata": {},
   "outputs": [],
   "source": [
    "# 16 Create a Python program that determines the eligibility of a person for a senior citizen discount based on age using if-else.\n",
    "amount=int(input(\"Enter purchased amount : \"))\n",
    "age=int(input('Enter age :'))\n",
    "if age>=70:\n",
    "    amount=amount- 0.30*amount\n",
    "elif age>=60:\n",
    "    amount=amount-0.15*amount\n",
    "elif age>=55:\n",
    "    amount=amount-0.1*amount\n",
    "elif age>=50:\n",
    "    amount=amount-0.05*amount\n",
    "else:\n",
    "    amount=amount\n",
    "print(\"You have to pay : \",amount)"
   ]
  },
  {
   "cell_type": "code",
   "execution_count": null,
   "metadata": {},
   "outputs": [],
   "source": [
    "# 17 Write a Python program to categorize a given character as uppercase, lowercase, or neither using if-else.\n",
    "chara=input(\"Enter character : \")\n",
    "if 'A'<=chara<='Z':\n",
    "    print('Character is in upper case.')\n",
    "elif 'a'<=chara<='z':\n",
    "    print('Character is in lower case.')\n",
    "else:\n",
    "    print('This is not character.')"
   ]
  },
  {
   "cell_type": "code",
   "execution_count": null,
   "metadata": {},
   "outputs": [],
   "source": [
    "# 18 Write a Python program to determine the roots of a quadratic equation using if-else.\n",
    "print(\"General coefficent of quadratic equations is :\\n ax^2 +bx +c\")\n",
    "a=int(input('Enter a : '))\n",
    "b=int(input('Enter b : '))\n",
    "c=int(input('Enter c : '))\n",
    "d=b*b-4*a*c\n",
    "if d>0:\n",
    "    r1=(-b+d**0.5)/2*a\n",
    "    r2=(-b-d**0.5)/2*a\n",
    "    print(f'Thr roots are real and distinct are \\n {r1} ,{r2}')\n",
    "elif d==0:\n",
    "    r1=-b/2*a\n",
    "    print(f'Thr roots are real and same are \\n {r1} ,{r1}')\n",
    "else : \n",
    "    print('The roots are imaginary .')"
   ]
  },
  {
   "cell_type": "code",
   "execution_count": null,
   "metadata": {},
   "outputs": [],
   "source": [
    "# 19 Create a Python program that checks if a given year is a century year or not using if-else.\n",
    "year=int(input('Enter year : '))\n",
    "if year%100==0:\n",
    "    print(f'{year} is a century year.')\n",
    "else :\n",
    "    print(f'{year} is not a century year.')"
   ]
  },
  {
   "cell_type": "code",
   "execution_count": null,
   "metadata": {},
   "outputs": [],
   "source": [
    "# 20 Write a Python program to determine if a given number is a perfect square using if-else.\n",
    "n=int(input('Enter number : '))\n",
    "b=n**0.5\n",
    "c=int(b)\n",
    "if c==b:\n",
    "    print(f'{n} is a perfect square number.')\n",
    "else:\n",
    "    print(f'{n} is not a perfect square number.')"
   ]
  },
  {
   "cell_type": "markdown",
   "metadata": {},
   "source": [
    "21 Explain the purpose of the \"continue\" and \"break\" statements within if-else loops.\n",
    "\n",
    "continue--> skips the rest of the loop body for the current iteration. move the next iteration\n",
    "break ---> immediately terminates the loop when encountered.Execution contionues after the loop."
   ]
  },
  {
   "cell_type": "code",
   "execution_count": null,
   "metadata": {},
   "outputs": [],
   "source": [
    "# 22 Create a Python program that calculates the BMI (Body Mass Index) of a person based on their weight and height using if-else.\n",
    "weight=float(input(\"Enter weight (in kilogram ) : \"))\n",
    "height=float(input('Enter height (in meters ) : '))\n",
    "bmi=weight/(height**2)\n",
    "if bmi>=30:\n",
    "    print('Obesity.')\n",
    "elif 25<=bmi:\n",
    "    print('Overweight')\n",
    "elif 18.5<=bmi:\n",
    "    print('Normalweight')\n",
    "else:\n",
    "    print('Underweight')"
   ]
  },
  {
   "cell_type": "code",
   "execution_count": null,
   "metadata": {},
   "outputs": [],
   "source": [
    "# 23 How can you use the \"filter()\" function with if-else statements to filter elements from a list?\n",
    "n=int(input('Enter number : '))\n",
    "l=[]\n",
    "for i in range(n):\n",
    "    l.append(int(input('Enter {i+1} element : ')))\n",
    "\n",
    "even_nu=list(filter(lambda x: x if x%2==0 else None,l))\n",
    "print(even_nu)"
   ]
  },
  {
   "cell_type": "code",
   "execution_count": null,
   "metadata": {},
   "outputs": [],
   "source": [
    "# 24 Write a Python program to determine if a given number is prime or not using if-else.\n",
    "n=int(input('Enter number : '))\n",
    "isprime=True\n",
    "for i in range(2,n):\n",
    "    if n%i==0:\n",
    "        print(f'{n} is not prime')\n",
    "        break\n",
    "    \n",
    "else:\n",
    "    print(f'{n} is  prime.')"
   ]
  },
  {
   "cell_type": "markdown",
   "metadata": {},
   "source": [
    "MAP :-"
   ]
  },
  {
   "cell_type": "code",
   "execution_count": null,
   "metadata": {},
   "outputs": [],
   "source": [
    "# 1 Explain the purpose of the `map()` function in Python and provide an example of how it can be used to apply a function to each element of an iterable.\n",
    "# It is used to apply a given function to each item of an iterable and return an iterator that yeilds the result. \n",
    "n=int(input('Enter no of elements in list : '))\n",
    "l1=[]\n",
    "for i in range(n):\n",
    "    l1.append(int(input(f'Enter {i+1} elements : ')))\n",
    "print('Orginal list : \\n',l1)\n",
    "# multiply every element by 2\n",
    "l2=map(lambda x: x*2,l1)\n",
    "l3=list(l2)\n",
    "print('New list : \\n',l3)"
   ]
  },
  {
   "cell_type": "code",
   "execution_count": null,
   "metadata": {},
   "outputs": [],
   "source": [
    "# 2 Write a Python program that uses the `map()` function to square each element of a list of numbers.\n",
    "n=int(input('Enter numbers : '))\n",
    "l=[]\n",
    "for i in range(n):\n",
    "    l.append(int(input(f'Enter {i+1} elements :  ')))\n",
    "print('Original list : \\n',l)\n",
    "l1=list(map(lambda x:x**2 , l))\n",
    "print('Modified list : \\n',l1)"
   ]
  },
  {
   "cell_type": "markdown",
   "metadata": {},
   "source": [
    "3 How does the `map()` function differ from a list comprehension in Python, and when would you choose one over the other?\n",
    "\n",
    "---> Map returns a object (an iterator),which needs to be converted to a list or other collection while list compression is directly return a list\n",
    "---> Map is generally used when we have a function to apply"
   ]
  },
  {
   "cell_type": "code",
   "execution_count": null,
   "metadata": {},
   "outputs": [],
   "source": [
    "# 4Create a Python program that uses the `map()` function to convert a list of names to uppercase.\n",
    "n=int(input('Enter no  of names : '))\n",
    "l=[]\n",
    "for i in range(n):\n",
    "    l.append(input(f'Enter {i+1} name : '))\n",
    "print('List of names :\\n',l)\n",
    "l1=list(map(lambda x: x.upper() , l))\n",
    "print('List of uppercase names : \\n',l1)"
   ]
  },
  {
   "cell_type": "code",
   "execution_count": null,
   "metadata": {},
   "outputs": [],
   "source": [
    "# 5 Write a Python program that uses the `map()` function to calculate the length of each word in a list of strings.\n",
    "n=int(input('Enter total number of words in a list : '))\n",
    "l=[]\n",
    "for i in range(n):\n",
    "    l.append(input(f'Enter {i+1} string : '))\n",
    "print('List of strings : \\n',l)\n",
    "l1=list(map(lambda x:len(x),l))\n",
    "print('Length of each string :\\n',l1)"
   ]
  },
  {
   "cell_type": "code",
   "execution_count": null,
   "metadata": {},
   "outputs": [],
   "source": [
    "# 6 How can you use the `map()` function to apply a custom function to elements of multiple lists simultaneously in Python?\n",
    "# map(function,iterable1,iterabl2,.......)"
   ]
  },
  {
   "cell_type": "code",
   "execution_count": null,
   "metadata": {},
   "outputs": [],
   "source": [
    "# 7 Create a Python program that uses `map()` to convert a list of temperatures from Celsius to Fahrenheit\n",
    "a=int(input('Enter number no of temperature u have : '))\n",
    "l=[]\n",
    "for i in range(a):\n",
    "    l.append(float(input(\"Enter temperature(in celsius) : \")))\n",
    "print(\"Temperature in celsius : \\n\",l)\n",
    "l1=list(map(lambda x : 1.8*x +32 ,l))\n",
    "print('Temperature in Fahrenheit : \\n',l1)"
   ]
  },
  {
   "cell_type": "code",
   "execution_count": null,
   "metadata": {},
   "outputs": [],
   "source": [
    "# 8 Write a Python program that uses the `map()` function to round each element of a list of floating-point numbers to the nearest integer.\n",
    "n=int(input('Enter number of elements : '))\n",
    "l=[]\n",
    "for i in range(n):\n",
    "    l.append(float(input(f'Enter {i+1} elements : ')))\n",
    "print('Original list : \\n',l)\n",
    "l1=list(map(lambda x : round(x) , l))\n",
    "print('found off list :\\n',l1)"
   ]
  },
  {
   "cell_type": "markdown",
   "metadata": {},
   "source": [
    "REDUCE "
   ]
  },
  {
   "cell_type": "markdown",
   "metadata": {},
   "source": [
    "# 1 What is the `reduce()` function in Python, and what module should you import to use it? Provide an example of its basic usage.\n",
    "\n",
    "\n",
    "--->reduce function is applied on list from left to right in such a way it gives a single value\n",
    "--->functools module is used\n",
    " eg find the sum of elements in list"
   ]
  },
  {
   "cell_type": "code",
   "execution_count": null,
   "metadata": {},
   "outputs": [],
   "source": [
    "from functools import reduce\n",
    "n=int(input('Enter number : '))\n",
    "l=[]\n",
    "for i in range(n):\n",
    "    l.append(int(input('Enter numbers : ')))\n",
    "print('List : \\n',l)\n",
    "result=reduce(lambda x,y:x+y , l)\n",
    "print('THe sum of elements in list  :',result)"
   ]
  },
  {
   "cell_type": "code",
   "execution_count": null,
   "metadata": {},
   "outputs": [],
   "source": [
    "# 2 Write a Python program that uses the `reduce()` function to find the product of all elements in a list.\n",
    "from functools import reduce\n",
    "n=int(input('Enter number : '))\n",
    "l=[]\n",
    "for i in range(n):\n",
    "    l.append(int(input('Enter numbers : ')))\n",
    "print('List : \\n',l)\n",
    "result=reduce(lambda x,y:x*y , l)\n",
    "print('THe product of elements in list  :',result)"
   ]
  },
  {
   "cell_type": "code",
   "execution_count": null,
   "metadata": {},
   "outputs": [],
   "source": [
    "#3 Create a Python program that uses `reduce()` to find the maximum element in a list of numbers.\n",
    "from functools import reduce\n",
    "n=int(input('Enter number : '))\n",
    "l=[]\n",
    "for i in range(n):\n",
    "    l.append(int(input('Enter numbers : ')))\n",
    "print('List : \\n',l)\n",
    "result=reduce(lambda x,y: x if x>y else y ,l)\n",
    "print('Maximum element in list : ',result)"
   ]
  },
  {
   "cell_type": "code",
   "execution_count": null,
   "metadata": {},
   "outputs": [],
   "source": [
    "# 4 How can you use the `reduce()` function to concatenate a list of strings into a single string?\n",
    "from functools import reduce\n",
    "n=int(input(\"Enter total number of strings: \"))\n",
    "l=[]\n",
    "for i in range(n):\n",
    "    l.append(input(f'Enter {i+1} string : '))\n",
    "print('List containing strings : \\n',l)\n",
    "result=reduce(lambda x,y: x+' '+ y,l)\n",
    "print('Sentence(single string ): \\n',result)"
   ]
  },
  {
   "cell_type": "code",
   "execution_count": null,
   "metadata": {},
   "outputs": [],
   "source": [
    "# 5 Write a Python program that calculates the factorial of a number using the `reduce()` function.\n",
    "from functools import reduce\n",
    "n=int(input('Enter number : '))\n",
    "l=[]\n",
    "for i in range(1,n+1):\n",
    "    l.append(i)\n",
    "result=reduce(lambda x,y:x*y ,l)\n",
    "print(f'Factorial of {n} is {result}')"
   ]
  },
  {
   "cell_type": "code",
   "execution_count": null,
   "metadata": {},
   "outputs": [],
   "source": [
    "# 6 Create a Python program that uses `reduce()` to find the GCD (Greatest Common Divisor) of a list of numbers.\n",
    "from functools import reduce\n",
    "def gcd(a,b):\n",
    "    while b!=0:\n",
    "        a,b=b,a%b\n",
    "    return a\n",
    "n=int(input(\"Enter total number of strings: \"))\n",
    "l=[]\n",
    "for i in range(n):\n",
    "    l.append(int(input(f'Enter {i+1} string : ')))\n",
    "result=reduce(lambda a,b:gcd(a,b),l)\n",
    "print('The gcd of list : ',result)"
   ]
  },
  {
   "cell_type": "code",
   "execution_count": null,
   "metadata": {},
   "outputs": [],
   "source": [
    "# 7 Write a Python program that uses the `reduce()` function to find the sum of the digits of a given number.\n",
    "from functools import reduce\n",
    "n=input('Enter number : ')\n",
    "l=[]\n",
    "for i in n:\n",
    "    l.append(int(i))\n",
    "\n",
    "result=reduce(lambda x,y:x+y ,l)\n",
    "print('The sum of digit of a number is ',result)"
   ]
  },
  {
   "cell_type": "markdown",
   "metadata": {},
   "source": [
    "Filter "
   ]
  },
  {
   "cell_type": "code",
   "execution_count": null,
   "metadata": {},
   "outputs": [],
   "source": [
    "# 1 Explain the purpose of the `filter()` function in Python and provide an example of how it can be used to filter elements from an iterable.\n",
    "# filter is used to filter the element of an iterable based on a condition defined by a iterator.\n",
    "# program to filter odd  number \n",
    "n=int(input('Enter number : '))\n",
    "l=[]\n",
    "for i in range(n):\n",
    "    l.append(int(input(f'Enter {i+1} elements :' )))\n",
    "print('list is :\\n',l)\n",
    "l1=list(filter(lambda x:x%2!=0 ,l))\n",
    "print('List cointaining odd number : ',l1)"
   ]
  },
  {
   "cell_type": "code",
   "execution_count": null,
   "metadata": {},
   "outputs": [],
   "source": [
    "# 2 Write a Python program that uses the `filter()` function to select even numbers from a list of integers.\n",
    "n=int(input('Enter number : '))\n",
    "l=[]\n",
    "for i in range(n):\n",
    "    l.append(int(input(f'Enter {i+1} elements :' )))\n",
    "print('list is :\\n',l)\n",
    "l1=list(filter(lambda x:x%2==0 ,l))\n",
    "print('List cointaining even number : ',l1)"
   ]
  },
  {
   "cell_type": "code",
   "execution_count": null,
   "metadata": {},
   "outputs": [],
   "source": [
    "# 3 Create a Python program that uses the `filter()` function to select names that start with a specific letter from a list of strings.\n",
    "n=int(input('Enter total number of names in string : '))\n",
    "l=[]\n",
    "for i in range(n):\n",
    "    l.append(input('Enter names : '))\n",
    "a=input('Enter starting character of names : ')\n",
    "print('List containing all names : \\n',l)\n",
    "l1=list(filter(lambda x:x[0]==a,l))\n",
    "print(f'List of strings start with {a} :\\n',l1)"
   ]
  },
  {
   "cell_type": "code",
   "execution_count": null,
   "metadata": {},
   "outputs": [],
   "source": [
    "# 4 Write a Python program that uses the `filter()` function to select prime numbers from a list of integers.\n",
    "def prime(x):\n",
    "    isprime=True\n",
    "    for i in range(2,x):\n",
    "        if x%i==0:\n",
    "            isprime=False\n",
    "            break\n",
    "    if isprime:\n",
    "        return x\n",
    "    \n",
    "n=int(input('Enter toatal number : '))\n",
    "l=[]\n",
    "for i in range(n):\n",
    "    l.append(int(input(f'Enter {i+1} elements : ')))\n",
    "print('List containg all number :\\n',l)\n",
    "l1=list(filter(lambda x:prime(x),l))\n",
    "print('List containing prime number :\\n',l1)"
   ]
  },
  {
   "cell_type": "code",
   "execution_count": null,
   "metadata": {},
   "outputs": [],
   "source": [
    "# 5How can you use the `filter()` function to remove None values from a list in Python?\n",
    "data=[1,None,2,None,3,4,None,5,None]\n",
    "filtered_data=list(filter(lambda x: x is not None,data))\n",
    "print(filtered_data)"
   ]
  },
  {
   "cell_type": "code",
   "execution_count": null,
   "metadata": {},
   "outputs": [],
   "source": [
    "#6 Create a Python program that uses `filter()` to select words longer than a certain length from a list of strings.\n",
    "n=int(input('Enter total number of string : '))\n",
    "l=[]\n",
    "for i in range(n):\n",
    "    l.append(input('Enter word : '))\n",
    "a=int(input('Enter starting character of names : '))\n",
    "print('List containing all names : \\n',l)\n",
    "l1=list(filter(lambda x:len(x)>=a,l))\n",
    "print(f'List of strings start with {a} :\\n',l1)"
   ]
  },
  {
   "cell_type": "code",
   "execution_count": null,
   "metadata": {},
   "outputs": [],
   "source": [
    "# 7 Write a Python program that uses the `filter()` function to select elements greater than a specified threshold from a list of values.\n",
    "n=int(input('Enter toatal number : '))\n",
    "l=[]\n",
    "for i in range(n):\n",
    "    l.append(int(input(f'Enter {i+1} elements : ')))\n",
    "a=int(input('Enter threshold value : '))\n",
    "print('List containg all number :\\n',l)\n",
    "l1=list(filter(lambda x:x>a,l))\n",
    "print('List containing element greater than threshold :\\n',l1)"
   ]
  },
  {
   "cell_type": "markdown",
   "metadata": {},
   "source": [
    "RECURSION"
   ]
  },
  {
   "cell_type": "markdown",
   "metadata": {},
   "source": [
    "1 Explain the concept of recursion in Python. How does it differ from iteration?  \n",
    "--->Recursion is used to run certain condition again and again\n",
    "--->in recursion  it  will  run until it acheives base condition.while in iteration we know how many times a certain task is run"
   ]
  },
  {
   "cell_type": "code",
   "execution_count": null,
   "metadata": {},
   "outputs": [],
   "source": [
    "#2 Write a Python program to calculate the factorial of a number using recursion.\n",
    "def recursion(n):\n",
    "    if n==1 or n==0:\n",
    "        return 1\n",
    "    else:\n",
    "        return n*recursion(n-1)\n",
    "\n",
    "n=int(input(\"Enter number : \"))\n",
    "print(f'The factorial of {n} = ',recursion(n))"
   ]
  },
  {
   "cell_type": "code",
   "execution_count": null,
   "metadata": {},
   "outputs": [],
   "source": [
    "#3 Create a recursive Python function to find the nth Fibonacci number.\n",
    "def fibo(n):\n",
    "    if n==0:\n",
    "        return 0\n",
    "    elif n==1:\n",
    "        return 1\n",
    "    else :\n",
    "        return fibo(n-1)+fibo(n-2)\n",
    "\n",
    "n=int(input('Enter number : '))\n",
    "print(f'The fibonacci number at the postion{n} :',fibo(n-1))"
   ]
  },
  {
   "cell_type": "code",
   "execution_count": null,
   "metadata": {},
   "outputs": [],
   "source": [
    "# 4 Write a recursive Python function to calculate the sum of all elements in a list.\n",
    "def sum_of_list(l):\n",
    "    if len(l)==0:\n",
    "        return 0\n",
    "    else : \n",
    "        return  l[0]+sum_of_list(l[1:])\n",
    "\n",
    "n=int(input('Enter number : '))\n",
    "l=[]\n",
    "for i in range(n):\n",
    "    l.append(int(input(f'Enter {i+1} elements : ')))\n",
    "sum=0\n",
    "print('List :  ',l)\n",
    "print('Sum of list : ',sum_of_list(l))"
   ]
  },
  {
   "cell_type": "markdown",
   "metadata": {},
   "source": [
    "5 How can you prevent a recursive function from running indefinitely, causing a stack overflow error?\n",
    "\n",
    "\n",
    "we stop by defining base condition so when function reach at base condition it will stop running infinitely."
   ]
  },
  {
   "cell_type": "code",
   "execution_count": null,
   "metadata": {},
   "outputs": [],
   "source": [
    "# 6 Create a recursive Python function to find the greatest common divisor (GCD) of two numbers using the Euclidean algorithm.\n",
    "def gcd(a,b):\n",
    "    if b==0:\n",
    "        return a\n",
    "    else :\n",
    "        return gcd(b,a%b)\n",
    "\n",
    "\n",
    "a=int(input('Enter 1st number : '))\n",
    "b=int(input('Enter 2nd number : '))\n",
    "print(f'GCD of {a} and {b} : ',gcd(a,b))"
   ]
  },
  {
   "cell_type": "code",
   "execution_count": null,
   "metadata": {},
   "outputs": [],
   "source": [
    "# 7 Write a recursive Python function to reverse a string.\n",
    "def reverse(n):\n",
    "    if len(n)==0:\n",
    "        return n\n",
    "    else:\n",
    "        return n[-1]+reverse(n[:-1])\n",
    "\n",
    "n=input('Enter string : ')\n",
    "print('Reversed string : ',reverse(n))"
   ]
  },
  {
   "cell_type": "code",
   "execution_count": null,
   "metadata": {},
   "outputs": [],
   "source": [
    "# 8Create a recursive Python function to calculate the power of a number (x^n).\n",
    "def power(x,n):\n",
    "    if n==1 or n==0:\n",
    "        return x\n",
    "    else:\n",
    "        return x*power(x,n-1)\n",
    "\n",
    "x=int(input('Enter number : '))\n",
    "n=int(input('Enter power  : '))\n",
    "print(f'{x}^{n}= ',power(x,n))"
   ]
  },
  {
   "cell_type": "code",
   "execution_count": null,
   "metadata": {},
   "outputs": [],
   "source": [
    "# 9 Write a recursive Python function to find all permutations of a given string.\n",
    "def per(s,step=0):\n",
    "    if step==len(s):\n",
    "        print(''.join(s))\n",
    "        return\n",
    "    for i in range(step,len(s)):\n",
    "        s_copy=[c for c in s]\n",
    "        s_copy[step],s_copy[i]=s_copy[i],s_copy[step]\n",
    "        per(s_copy,step+1)\n",
    "String='ABC'\n",
    "print(per(String))"
   ]
  },
  {
   "cell_type": "code",
   "execution_count": null,
   "metadata": {},
   "outputs": [],
   "source": [
    "# 10 Write a recursive Python function to check if a string is a palindrome.\n",
    "def palindrome(a):\n",
    "    if len(a)==1:\n",
    "        return True\n",
    "    elif a[0]==a[-1]:\n",
    "        return a[1:-1]\n",
    "    else :\n",
    "        return False\n",
    "\n",
    "a=input('Enter string : ')\n",
    "result=palindrome(a)\n",
    "if result:\n",
    "    print('String is palindrome.')\n",
    "else:\n",
    "    print('String is not palindrome')"
   ]
  },
  {
   "cell_type": "code",
   "execution_count": null,
   "metadata": {},
   "outputs": [],
   "source": [
    "# 11 Create a recursive Python function to generate all possible combinations of a list of elements.\n",
    "def get_combinations(arr, current=[], index=0):\n",
    "    if index == len(arr):  \n",
    "        print(current)  \n",
    "        return\n",
    "\n",
    "    get_combinations(arr, current + [arr[index]], index + 1)\n",
    "    \n",
    "    get_combinations(arr, current, index + 1)\n",
    "\n",
    "elements = [1, 2, 3]\n",
    "get_combinations(elements)"
   ]
  },
  {
   "cell_type": "markdown",
   "metadata": {},
   "source": [
    "Basics of Functions:"
   ]
  },
  {
   "cell_type": "markdown",
   "metadata": {},
   "source": [
    "1 What is a function in Python, and why is it used?\n",
    "FUnction is a block of code to execute a task and it is used to increase reusability"
   ]
  },
  {
   "cell_type": "code",
   "execution_count": null,
   "metadata": {},
   "outputs": [],
   "source": [
    "# 2 How do you define a function in Python? Provide an example.\n",
    "# we define a function by def keyword\n",
    "def sun(a,b):\n",
    "    return a+b\n",
    "a=int(input('Enter number :'))\n",
    "b=int(input('Enter number :'))\n",
    "print('Sum of two number is ',sun(a,b))"
   ]
  },
  {
   "cell_type": "markdown",
   "metadata": {},
   "source": [
    "3 Explain the difference between a function definition and a function call.\n",
    "\n",
    "function defination ---> it define the function and its behaviour\n",
    "function call ---> it is used to executes the function and perform its task"
   ]
  },
  {
   "cell_type": "code",
   "execution_count": null,
   "metadata": {},
   "outputs": [],
   "source": [
    "# 4 Write a Python program that defines a function to calculate the sum of two numbers and then calls the function.\n",
    "def sun(a,b):\n",
    "    return a+b\n",
    "a=int(input('Enter number :'))\n",
    "b=int(input('Enter number :'))\n",
    "print('Sum of two number is ',sun(a,b))"
   ]
  },
  {
   "cell_type": "markdown",
   "metadata": {},
   "source": [
    "5 What is a function signature, and what information does it typically include?\n",
    "\n",
    "A function signitature defines how a function should be called,specifying details such as its name,parameters(arguments),default,return type\n"
   ]
  },
  {
   "cell_type": "code",
   "execution_count": null,
   "metadata": {},
   "outputs": [],
   "source": [
    "# 6 Create a Python function that takes two arguments and returns their product.\n",
    "def product(a,b):\n",
    "    return a*b\n",
    "a=int(input('Enter number :'))\n",
    "b=int(input('Enter number :'))\n",
    "print('Product of two number is ',product(a,b))"
   ]
  },
  {
   "cell_type": "markdown",
   "metadata": {},
   "source": [
    "Function Parameters and Arguments:"
   ]
  },
  {
   "cell_type": "markdown",
   "metadata": {},
   "source": [
    "# 1 Explain the concepts of formal parameters and actual arguments in Python functions.\n",
    "\n",
    "Formal Parameter : they are the variables defined in a function parameter list when the function is declared. They act as placeholders for values that will be passed to the function.\n",
    "Actual Parameter : They are the values or variables provided to the function when it is called. These values replace the formal parameters during execution."
   ]
  },
  {
   "cell_type": "code",
   "execution_count": null,
   "metadata": {},
   "outputs": [],
   "source": [
    "# 2 Write a Python program that defines a function with default argument values.\n",
    "def add(a=3,b=5):\n",
    "    print('sum is : ',a+b)\n",
    "# function with default argument\n",
    "add()"
   ]
  },
  {
   "cell_type": "code",
   "execution_count": null,
   "metadata": {},
   "outputs": [],
   "source": [
    "# 3 How do you use keyword arguments in Python function calls? Provide an example.\n",
    "# Keyword arguments allow passing arguments to a function by explicitly specifying parameter names,\n",
    "def sub(a,b):\n",
    "    print(a-b)\n",
    "# keyword argument\n",
    "sub(b=3,a=5)"
   ]
  },
  {
   "cell_type": "code",
   "execution_count": null,
   "metadata": {},
   "outputs": [],
   "source": [
    "# 4 Create a Python function that accepts a variable number of arguments and calculates their sum.\n",
    "def add(*a):\n",
    "    return sum(a)\n",
    "\n",
    "print('Sum is : ',add(1,2,3,4,5,6,7,8,9))"
   ]
  },
  {
   "cell_type": "markdown",
   "metadata": {},
   "source": [
    "5 What is the purpose of the `*args` and `**kwargs` syntax in function parameter lists?\n",
    "*args= allow a function to accept any number of arguments as a tuple.\n",
    "**kwargs=allows a function to accept any numnber of argument as a dictionary."
   ]
  },
  {
   "cell_type": "markdown",
   "metadata": {},
   "source": [
    "Return Values and Scoping:"
   ]
  },
  {
   "cell_type": "code",
   "execution_count": null,
   "metadata": {},
   "outputs": [],
   "source": [
    "# 1 Describe the role of the `return` statement in Python functions and provide examples.\n",
    "# return ---> it is used to give result of function where function is called.\n",
    "def add(a,b):\n",
    "    return a+b\n",
    "print(add(2,5))"
   ]
  },
  {
   "cell_type": "code",
   "execution_count": null,
   "metadata": {},
   "outputs": [],
   "source": [
    "# 2Explain the concept of variable scope in Python, including local and global variables.\n",
    "# --->Local Variable : it is defined in function and only use inside function\n",
    "# --->Global Variable: it is defined outside function and cn be accessed in any part of function"
   ]
  },
  {
   "cell_type": "code",
   "execution_count": null,
   "metadata": {},
   "outputs": [],
   "source": [
    "# 3 Write a Python program that demonstrates the use of global variables within functions.\n",
    "def name():\n",
    "    print(a)\n",
    "a='Hello'\n",
    "name()"
   ]
  },
  {
   "cell_type": "code",
   "execution_count": null,
   "metadata": {},
   "outputs": [],
   "source": [
    "# 4 Create a Python function that calculates the factorial of a number and returns it.\n",
    "def fact(n):\n",
    "    if n==0 or n==1:\n",
    "        return n\n",
    "    else:\n",
    "        return n*fact(n-1)\n",
    "n=int(input('Enter number : '))\n",
    "print(f'Factorial of {n} is ',fact(n))"
   ]
  },
  {
   "cell_type": "code",
   "execution_count": null,
   "metadata": {},
   "outputs": [],
   "source": [
    "# 5 How can you access variables defined outside a function from within the function?\n",
    "x=10\n",
    "def modify():\n",
    "    global x\n",
    "    x+=5\n",
    "modify()\n",
    "print(x)"
   ]
  },
  {
   "cell_type": "markdown",
   "metadata": {},
   "source": [
    "Lambda Functions and Higher-Order Functions:"
   ]
  },
  {
   "cell_type": "markdown",
   "metadata": {},
   "source": [
    "1 What are lambda functions in Python, and when are they typically used?\n",
    "\n",
    "lambda function are anonymous function(without a name) used for short,simple.They are used in map,reduce,filter"
   ]
  },
  {
   "cell_type": "code",
   "execution_count": null,
   "metadata": {},
   "outputs": [],
   "source": [
    "# 2Write a Python program that uses lambda functions to sort a list of tuples based on the second element.\n",
    "t=((1,2),(2,5),(3,3),(4,1))\n",
    "sorted_tuple=sorted(t,key=lambda x:x[1])  #sorted(data,key=criteria on which sorting done)\n",
    "print(sorted_tuple)"
   ]
  },
  {
   "cell_type": "code",
   "execution_count": null,
   "metadata": {},
   "outputs": [],
   "source": [
    "# 3 Explain the concept of higher-order functions in Python, and provide an example\n",
    "# Higher order function ---> A function which takes a function as a argument or return a function\n",
    "def apply_func(func,value):\n",
    "    return list(map(func,value))\n",
    "double=lambda x:x*2\n",
    "a=[1,2,3,4,5,6,7,8,9]\n",
    "print(apply_func(double,a))"
   ]
  },
  {
   "cell_type": "code",
   "execution_count": null,
   "metadata": {},
   "outputs": [],
   "source": [
    "# 4 Create a Python function that takes a list of numbers and a function as arguments, applying the function to each element in the list.\n",
    "def apply_to_list(a,f):\n",
    "    return [f(i) for i in a]\n",
    "a=[1,2,3,4]\n",
    "print(apply_to_list(a,lambda x:x**2))"
   ]
  },
  {
   "cell_type": "markdown",
   "metadata": {},
   "source": [
    "Built-in Functions:"
   ]
  },
  {
   "cell_type": "markdown",
   "metadata": {},
   "source": [
    "1 Describe the role of built-in functions like `len()`, `max()`, and `min()` in Python.\n",
    "len() --> it is used to calculater the len of iterable(list,tuple)\n",
    "max() -->it is used to find the maximum of iterable(list,tuple)\n",
    "min() -->it is used to find the minimum of iterable(list,tuple)"
   ]
  },
  {
   "cell_type": "code",
   "execution_count": null,
   "metadata": {},
   "outputs": [],
   "source": [
    "# 2 Write a Python program that uses the `map()` function to apply a function to each element of a list.\n",
    "n=int(input('Enter total number of element in list : '))\n",
    "l=[]\n",
    "for i in range(n):\n",
    "    l.append(int(input(f'Enter {i+1} element : ')))\n",
    "\n",
    "print(list(map(lambda x: x**3,l)))"
   ]
  },
  {
   "cell_type": "code",
   "execution_count": null,
   "metadata": {},
   "outputs": [],
   "source": [
    "# 3How does the `filter()` function work in Python, and when would you use it?\n",
    "# filter is used to filter the element of list by appling condition\n",
    "n=int(input('Enter total number of element in list : '))\n",
    "l=[]\n",
    "for i in range(n):\n",
    "    l.append(int(input(f'Enter {i+1} element : ')))\n",
    "print(list(filter(lambda x:x%2==0,l)))"
   ]
  },
  {
   "cell_type": "code",
   "execution_count": null,
   "metadata": {},
   "outputs": [],
   "source": [
    "# 4 Create a Python program that uses the `reduce()` function to find the product of all elements in a list.\n",
    "from functools import reduce\n",
    "n=int(input('Enter total number of element in list : '))\n",
    "l=[]\n",
    "for i in range(n):\n",
    "    l.append(int(input(f'Enter {i+1} element : ')))\n",
    "print(reduce(lambda x,y:x*y , l))"
   ]
  },
  {
   "cell_type": "markdown",
   "metadata": {},
   "source": [
    "Function Documentation and Best Practices:"
   ]
  },
  {
   "cell_type": "markdown",
   "metadata": {},
   "source": [
    "1  Explain the purpose of docstrings in Python functions and how to write them.\n",
    "docstrings is defined at the starting of function and it is generally used to tell what the function does \n",
    "docstring is write by ('''''')"
   ]
  },
  {
   "cell_type": "markdown",
   "metadata": {},
   "source": [
    "2 Describe some best practices for naming functions and variables in Python, including naming conventions and guidelines.\n",
    "function name---> must be simple and indicate the purpose of the function\n",
    "use uppercase for constant\n",
    "argument name should be simple"
   ]
  }
 ],
 "metadata": {
  "kernelspec": {
   "display_name": "Python 3",
   "language": "python",
   "name": "python3"
  },
  "language_info": {
   "codemirror_mode": {
    "name": "ipython",
    "version": 3
   },
   "file_extension": ".py",
   "mimetype": "text/x-python",
   "name": "python",
   "nbconvert_exporter": "python",
   "pygments_lexer": "ipython3",
   "version": "3.12.2"
  }
 },
 "nbformat": 4,
 "nbformat_minor": 2
}
